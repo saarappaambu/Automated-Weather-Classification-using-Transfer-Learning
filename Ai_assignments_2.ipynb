{
  "metadata": {
    "kernelspec": {
      "language": "python",
      "display_name": "Python 3",
      "name": "python3"
    },
    "language_info": {
      "name": "python",
      "version": "3.10.10",
      "mimetype": "text/x-python",
      "codemirror_mode": {
        "name": "ipython",
        "version": 3
      },
      "pygments_lexer": "ipython3",
      "nbconvert_exporter": "python",
      "file_extension": ".py"
    },
    "colab": {
      "provenance": [],
      "include_colab_link": true
    }
  },
  "nbformat_minor": 0,
  "nbformat": 4,
  "cells": [
    {
      "cell_type": "markdown",
      "metadata": {
        "id": "view-in-github",
        "colab_type": "text"
      },
      "source": [
        "<a href=\"https://colab.research.google.com/github/saarappaambu/Automated-Weather-Classification-using-Transfer-Learning/blob/main/Ai_assignments_2.ipynb\" target=\"_parent\"><img src=\"https://colab.research.google.com/assets/colab-badge.svg\" alt=\"Open In Colab\"/></a>"
      ]
    },
    {
      "cell_type": "markdown",
      "source": [
        "## Importing the required libraries"
      ],
      "metadata": {
        "id": "Ij2JYNeCA59Z"
      }
    },
    {
      "cell_type": "code",
      "source": [
        "from sklearn.model_selection import train_test_split\n",
        "from tensorflow.keras.layers import Input, Dense\n",
        "from tensorflow.keras.optimizers import Adam\n",
        "from tensorflow.keras import Sequential\n",
        "from sklearn.metrics import r2_score\n",
        "from matplotlib import pyplot as plt\n",
        "import pandas as pd\n",
        "import numpy as np"
      ],
      "metadata": {
        "_uuid": "8f2839f25d086af736a60e9eeb907d3b93b6e0e5",
        "_cell_guid": "b1076dfc-b9ad-4769-8c92-a6c4dae69d19",
        "execution": {
          "iopub.status.busy": "2023-05-09T17:53:32.824047Z",
          "iopub.execute_input": "2023-05-09T17:53:32.825782Z",
          "iopub.status.idle": "2023-05-09T17:53:42.315284Z",
          "shell.execute_reply.started": "2023-05-09T17:53:32.825738Z",
          "shell.execute_reply": "2023-05-09T17:53:42.314356Z"
        },
        "trusted": true,
        "id": "M48PC6xNA59j",
        "outputId": "74d8da93-c1d3-49f4-cc48-28cca685e56f"
      },
      "execution_count": null,
      "outputs": [
        {
          "name": "stderr",
          "text": "/opt/conda/lib/python3.10/site-packages/scipy/__init__.py:146: UserWarning: A NumPy version >=1.16.5 and <1.23.0 is required for this version of SciPy (detected version 1.23.5\n  warnings.warn(f\"A NumPy version >={np_minversion} and <{np_maxversion}\"\n",
          "output_type": "stream"
        }
      ]
    },
    {
      "cell_type": "markdown",
      "source": [
        "## Reading the dataset"
      ],
      "metadata": {
        "id": "1doOa-jEA59q"
      }
    },
    {
      "cell_type": "code",
      "source": [
        "df = pd.read_csv('/kaggle/input/house-price-dataset-of-india/House Price India.csv')\n",
        "df.drop(['id','Date'], axis=1, inplace=True)\n",
        "df.head()"
      ],
      "metadata": {
        "execution": {
          "iopub.status.busy": "2023-05-09T17:53:42.317258Z",
          "iopub.execute_input": "2023-05-09T17:53:42.317985Z",
          "iopub.status.idle": "2023-05-09T17:53:42.427537Z",
          "shell.execute_reply.started": "2023-05-09T17:53:42.317953Z",
          "shell.execute_reply": "2023-05-09T17:53:42.426417Z"
        },
        "trusted": true,
        "id": "eqEkbnofA59r",
        "outputId": "2f11d91e-0f64-4833-b90f-33932ca7e512"
      },
      "execution_count": null,
      "outputs": [
        {
          "execution_count": 2,
          "output_type": "execute_result",
          "data": {
            "text/plain": "   number of bedrooms  number of bathrooms  living area  lot area  \\\n0                   5                 2.50         3650      9050   \n1                   4                 2.50         2920      4000   \n2                   5                 2.75         2910      9480   \n3                   4                 2.50         3310     42998   \n4                   3                 2.00         2710      4500   \n\n   number of floors  waterfront present  number of views  \\\n0               2.0                   0                4   \n1               1.5                   0                0   \n2               1.5                   0                0   \n3               2.0                   0                0   \n4               1.5                   0                0   \n\n   condition of the house  grade of the house  \\\n0                       5                  10   \n1                       5                   8   \n2                       3                   8   \n3                       3                   9   \n4                       4                   8   \n\n   Area of the house(excluding basement)  ...  Built Year  Renovation Year  \\\n0                                   3370  ...        1921                0   \n1                                   1910  ...        1909                0   \n2                                   2910  ...        1939                0   \n3                                   3310  ...        2001                0   \n4                                   1880  ...        1929                0   \n\n   Postal Code  Lattitude  Longitude  living_area_renov  lot_area_renov  \\\n0       122003    52.8645   -114.557               2880            5400   \n1       122004    52.8878   -114.470               2470            4000   \n2       122004    52.8852   -114.468               2940            6600   \n3       122005    52.9532   -114.321               3350           42847   \n4       122006    52.9047   -114.485               2060            4500   \n\n   Number of schools nearby  Distance from the airport    Price  \n0                         2                         58  2380000  \n1                         2                         51  1400000  \n2                         1                         53  1200000  \n3                         3                         76   838000  \n4                         1                         51   805000  \n\n[5 rows x 21 columns]",
            "text/html": "<div>\n<style scoped>\n    .dataframe tbody tr th:only-of-type {\n        vertical-align: middle;\n    }\n\n    .dataframe tbody tr th {\n        vertical-align: top;\n    }\n\n    .dataframe thead th {\n        text-align: right;\n    }\n</style>\n<table border=\"1\" class=\"dataframe\">\n  <thead>\n    <tr style=\"text-align: right;\">\n      <th></th>\n      <th>number of bedrooms</th>\n      <th>number of bathrooms</th>\n      <th>living area</th>\n      <th>lot area</th>\n      <th>number of floors</th>\n      <th>waterfront present</th>\n      <th>number of views</th>\n      <th>condition of the house</th>\n      <th>grade of the house</th>\n      <th>Area of the house(excluding basement)</th>\n      <th>...</th>\n      <th>Built Year</th>\n      <th>Renovation Year</th>\n      <th>Postal Code</th>\n      <th>Lattitude</th>\n      <th>Longitude</th>\n      <th>living_area_renov</th>\n      <th>lot_area_renov</th>\n      <th>Number of schools nearby</th>\n      <th>Distance from the airport</th>\n      <th>Price</th>\n    </tr>\n  </thead>\n  <tbody>\n    <tr>\n      <th>0</th>\n      <td>5</td>\n      <td>2.50</td>\n      <td>3650</td>\n      <td>9050</td>\n      <td>2.0</td>\n      <td>0</td>\n      <td>4</td>\n      <td>5</td>\n      <td>10</td>\n      <td>3370</td>\n      <td>...</td>\n      <td>1921</td>\n      <td>0</td>\n      <td>122003</td>\n      <td>52.8645</td>\n      <td>-114.557</td>\n      <td>2880</td>\n      <td>5400</td>\n      <td>2</td>\n      <td>58</td>\n      <td>2380000</td>\n    </tr>\n    <tr>\n      <th>1</th>\n      <td>4</td>\n      <td>2.50</td>\n      <td>2920</td>\n      <td>4000</td>\n      <td>1.5</td>\n      <td>0</td>\n      <td>0</td>\n      <td>5</td>\n      <td>8</td>\n      <td>1910</td>\n      <td>...</td>\n      <td>1909</td>\n      <td>0</td>\n      <td>122004</td>\n      <td>52.8878</td>\n      <td>-114.470</td>\n      <td>2470</td>\n      <td>4000</td>\n      <td>2</td>\n      <td>51</td>\n      <td>1400000</td>\n    </tr>\n    <tr>\n      <th>2</th>\n      <td>5</td>\n      <td>2.75</td>\n      <td>2910</td>\n      <td>9480</td>\n      <td>1.5</td>\n      <td>0</td>\n      <td>0</td>\n      <td>3</td>\n      <td>8</td>\n      <td>2910</td>\n      <td>...</td>\n      <td>1939</td>\n      <td>0</td>\n      <td>122004</td>\n      <td>52.8852</td>\n      <td>-114.468</td>\n      <td>2940</td>\n      <td>6600</td>\n      <td>1</td>\n      <td>53</td>\n      <td>1200000</td>\n    </tr>\n    <tr>\n      <th>3</th>\n      <td>4</td>\n      <td>2.50</td>\n      <td>3310</td>\n      <td>42998</td>\n      <td>2.0</td>\n      <td>0</td>\n      <td>0</td>\n      <td>3</td>\n      <td>9</td>\n      <td>3310</td>\n      <td>...</td>\n      <td>2001</td>\n      <td>0</td>\n      <td>122005</td>\n      <td>52.9532</td>\n      <td>-114.321</td>\n      <td>3350</td>\n      <td>42847</td>\n      <td>3</td>\n      <td>76</td>\n      <td>838000</td>\n    </tr>\n    <tr>\n      <th>4</th>\n      <td>3</td>\n      <td>2.00</td>\n      <td>2710</td>\n      <td>4500</td>\n      <td>1.5</td>\n      <td>0</td>\n      <td>0</td>\n      <td>4</td>\n      <td>8</td>\n      <td>1880</td>\n      <td>...</td>\n      <td>1929</td>\n      <td>0</td>\n      <td>122006</td>\n      <td>52.9047</td>\n      <td>-114.485</td>\n      <td>2060</td>\n      <td>4500</td>\n      <td>1</td>\n      <td>51</td>\n      <td>805000</td>\n    </tr>\n  </tbody>\n</table>\n<p>5 rows × 21 columns</p>\n</div>"
          },
          "metadata": {}
        }
      ]
    },
    {
      "cell_type": "markdown",
      "source": [
        "### The inference from the dataset is as follows,\n",
        "* There are 21 features in the given dataset.\n",
        "* The price column is the only column which depend on the rest of the 20 columns."
      ],
      "metadata": {
        "id": "CdaVYjT8A59t"
      }
    },
    {
      "cell_type": "markdown",
      "source": [
        "## Getting the info of the dataframe"
      ],
      "metadata": {
        "id": "MmTQayUUA59u"
      }
    },
    {
      "cell_type": "code",
      "source": [
        "df.info()"
      ],
      "metadata": {
        "execution": {
          "iopub.status.busy": "2023-05-09T17:53:42.428822Z",
          "iopub.execute_input": "2023-05-09T17:53:42.429116Z",
          "iopub.status.idle": "2023-05-09T17:53:42.447212Z",
          "shell.execute_reply.started": "2023-05-09T17:53:42.429092Z",
          "shell.execute_reply": "2023-05-09T17:53:42.446160Z"
        },
        "trusted": true,
        "id": "ZvVjuvtvA59v",
        "outputId": "dcd9b844-17a7-472f-947a-d921592aaa28"
      },
      "execution_count": null,
      "outputs": [
        {
          "name": "stdout",
          "text": "<class 'pandas.core.frame.DataFrame'>\nRangeIndex: 14620 entries, 0 to 14619\nData columns (total 21 columns):\n #   Column                                 Non-Null Count  Dtype  \n---  ------                                 --------------  -----  \n 0   number of bedrooms                     14620 non-null  int64  \n 1   number of bathrooms                    14620 non-null  float64\n 2   living area                            14620 non-null  int64  \n 3   lot area                               14620 non-null  int64  \n 4   number of floors                       14620 non-null  float64\n 5   waterfront present                     14620 non-null  int64  \n 6   number of views                        14620 non-null  int64  \n 7   condition of the house                 14620 non-null  int64  \n 8   grade of the house                     14620 non-null  int64  \n 9   Area of the house(excluding basement)  14620 non-null  int64  \n 10  Area of the basement                   14620 non-null  int64  \n 11  Built Year                             14620 non-null  int64  \n 12  Renovation Year                        14620 non-null  int64  \n 13  Postal Code                            14620 non-null  int64  \n 14  Lattitude                              14620 non-null  float64\n 15  Longitude                              14620 non-null  float64\n 16  living_area_renov                      14620 non-null  int64  \n 17  lot_area_renov                         14620 non-null  int64  \n 18  Number of schools nearby               14620 non-null  int64  \n 19  Distance from the airport              14620 non-null  int64  \n 20  Price                                  14620 non-null  int64  \ndtypes: float64(4), int64(17)\nmemory usage: 2.3 MB\n",
          "output_type": "stream"
        }
      ]
    },
    {
      "cell_type": "markdown",
      "source": [
        "### The inferrence from the above cell are discussed below,\n",
        "* Only four columns \"number of bathrooms\", \"number of floors\", \"Lattitude\" and \"Longitude\" are float datatype.\n",
        "* Rest of the columns have only int64 datatype."
      ],
      "metadata": {
        "id": "rEwdk8r5A59y"
      }
    },
    {
      "cell_type": "markdown",
      "source": [
        "## Checking the NaN values from the dataframe"
      ],
      "metadata": {
        "id": "JwDKQXmiA59z"
      }
    },
    {
      "cell_type": "code",
      "source": [
        "df.isna().sum()"
      ],
      "metadata": {
        "execution": {
          "iopub.status.busy": "2023-05-09T17:53:42.449569Z",
          "iopub.execute_input": "2023-05-09T17:53:42.450440Z",
          "iopub.status.idle": "2023-05-09T17:53:42.459385Z",
          "shell.execute_reply.started": "2023-05-09T17:53:42.450384Z",
          "shell.execute_reply": "2023-05-09T17:53:42.458372Z"
        },
        "trusted": true,
        "id": "8gJkQsu2A591",
        "outputId": "cf56190e-8509-4f74-fa95-35613c4c4efa"
      },
      "execution_count": null,
      "outputs": [
        {
          "execution_count": 4,
          "output_type": "execute_result",
          "data": {
            "text/plain": "number of bedrooms                       0\nnumber of bathrooms                      0\nliving area                              0\nlot area                                 0\nnumber of floors                         0\nwaterfront present                       0\nnumber of views                          0\ncondition of the house                   0\ngrade of the house                       0\nArea of the house(excluding basement)    0\nArea of the basement                     0\nBuilt Year                               0\nRenovation Year                          0\nPostal Code                              0\nLattitude                                0\nLongitude                                0\nliving_area_renov                        0\nlot_area_renov                           0\nNumber of schools nearby                 0\nDistance from the airport                0\nPrice                                    0\ndtype: int64"
          },
          "metadata": {}
        }
      ]
    },
    {
      "cell_type": "markdown",
      "source": [
        "### From the above cell it is founded that, \n",
        "* There are no NaN values in the given dataset"
      ],
      "metadata": {
        "id": "_d7KBvnOA593"
      }
    },
    {
      "cell_type": "markdown",
      "source": [
        "## Spliting independent and dependent variables as X and y"
      ],
      "metadata": {
        "id": "qiyQOhOuA594"
      }
    },
    {
      "cell_type": "code",
      "source": [
        "X = df.drop('Price', axis=1)\n",
        "y = df['Price']"
      ],
      "metadata": {
        "execution": {
          "iopub.status.busy": "2023-05-09T17:53:42.461180Z",
          "iopub.execute_input": "2023-05-09T17:53:42.461652Z",
          "iopub.status.idle": "2023-05-09T17:53:42.468215Z",
          "shell.execute_reply.started": "2023-05-09T17:53:42.461614Z",
          "shell.execute_reply": "2023-05-09T17:53:42.467147Z"
        },
        "trusted": true,
        "id": "Uai8FTQKA597"
      },
      "execution_count": null,
      "outputs": []
    },
    {
      "cell_type": "markdown",
      "source": [
        "## Spliting the train test separately"
      ],
      "metadata": {
        "id": "Mrq6iZpwA599"
      }
    },
    {
      "cell_type": "code",
      "source": [
        "X_train, X_test, y_train, y_test = train_test_split(X, y, test_size=0.2, random_state=12)"
      ],
      "metadata": {
        "execution": {
          "iopub.status.busy": "2023-05-09T17:53:42.469799Z",
          "iopub.execute_input": "2023-05-09T17:53:42.470108Z",
          "iopub.status.idle": "2023-05-09T17:53:42.482785Z",
          "shell.execute_reply.started": "2023-05-09T17:53:42.470079Z",
          "shell.execute_reply": "2023-05-09T17:53:42.481632Z"
        },
        "trusted": true,
        "id": "CY2jBx3VA59-"
      },
      "execution_count": null,
      "outputs": []
    },
    {
      "cell_type": "markdown",
      "source": [
        "### Getting the shape of X, y train and test"
      ],
      "metadata": {
        "id": "lAGZu0LdA5-b"
      }
    },
    {
      "cell_type": "code",
      "source": [
        "print(f'\\n shape of X_train - {X_train.shape}\\n')\n",
        "print(f' shape of X_test - {X_test.shape}\\n')\n",
        "print(f' shape of y_train - {y_train.shape}\\n')\n",
        "print(f' shape of y_test - {y_test.shape}\\n')"
      ],
      "metadata": {
        "execution": {
          "iopub.status.busy": "2023-05-09T17:53:42.483921Z",
          "iopub.execute_input": "2023-05-09T17:53:42.486620Z",
          "iopub.status.idle": "2023-05-09T17:53:42.491534Z",
          "shell.execute_reply.started": "2023-05-09T17:53:42.486590Z",
          "shell.execute_reply": "2023-05-09T17:53:42.490631Z"
        },
        "trusted": true,
        "id": "1N3Gqs5HA5-d",
        "outputId": "aafff406-4fc6-4fac-8f82-70e5996a63a5"
      },
      "execution_count": null,
      "outputs": [
        {
          "name": "stdout",
          "text": "\n shape of X_train - (11696, 20)\n\n shape of X_test - (2924, 20)\n\n shape of y_train - (11696,)\n\n shape of y_test - (2924,)\n\n",
          "output_type": "stream"
        }
      ]
    },
    {
      "cell_type": "markdown",
      "source": [
        "---------------------\n",
        "## Model building\n",
        "--------------------"
      ],
      "metadata": {
        "id": "Frz8RKuYA5-e"
      }
    },
    {
      "cell_type": "code",
      "source": [
        "number_of_features = len(X.columns)\n",
        "\n",
        "model = Sequential()\n",
        "\n",
        "model.add(layer=Input(shape=number_of_features))\n",
        "\n",
        "model.add(layer=Dense(units=32, activation='relu'))\n",
        "\n",
        "model.add(layer=Dense(units=64, activation='relu'))\n",
        "\n",
        "model.add(layer=Dense(units=128, activation='relu'))\n",
        "\n",
        "model.add(layer=Dense(units=256, activation='relu'))\n",
        "\n",
        "model.add(layer=Dense(units=512, activation='relu'))\n",
        "\n",
        "model.add(layer=Dense(units=1024, activation='relu'))\n",
        "\n",
        "model.add(layer=Dense(units=2048, activation='relu'))\n",
        "\n",
        "model.add(layer=Dense(units=256, activation='relu'))\n",
        "\n",
        "model.add(layer=Dense(units=128, activation='relu'))\n",
        "\n",
        "model.add(layer=Dense(units=64, activation='relu'))\n",
        "\n",
        "model.add(layer=Dense(units=32, activation='relu'))\n",
        "\n",
        "model.add(layer=Dense(units=16, activation='relu'))\n",
        "\n",
        "model.add(layer=Dense(units=1, activation='linear'))\n",
        "\n",
        "model.summary()"
      ],
      "metadata": {
        "execution": {
          "iopub.status.busy": "2023-05-09T17:53:42.493127Z",
          "iopub.execute_input": "2023-05-09T17:53:42.493762Z",
          "iopub.status.idle": "2023-05-09T17:53:46.672643Z",
          "shell.execute_reply.started": "2023-05-09T17:53:42.493713Z",
          "shell.execute_reply": "2023-05-09T17:53:46.671793Z"
        },
        "trusted": true,
        "id": "CSzzZQxOA5-f",
        "outputId": "6e3fbc24-e1c0-4d77-8cf4-069fadb85481"
      },
      "execution_count": null,
      "outputs": [
        {
          "name": "stdout",
          "text": "Model: \"sequential\"\n_________________________________________________________________\n Layer (type)                Output Shape              Param #   \n=================================================================\n dense (Dense)               (None, 32)                672       \n                                                                 \n dense_1 (Dense)             (None, 64)                2112      \n                                                                 \n dense_2 (Dense)             (None, 128)               8320      \n                                                                 \n dense_3 (Dense)             (None, 256)               33024     \n                                                                 \n dense_4 (Dense)             (None, 512)               131584    \n                                                                 \n dense_5 (Dense)             (None, 1024)              525312    \n                                                                 \n dense_6 (Dense)             (None, 2048)              2099200   \n                                                                 \n dense_7 (Dense)             (None, 256)               524544    \n                                                                 \n dense_8 (Dense)             (None, 128)               32896     \n                                                                 \n dense_9 (Dense)             (None, 64)                8256      \n                                                                 \n dense_10 (Dense)            (None, 32)                2080      \n                                                                 \n dense_11 (Dense)            (None, 16)                528       \n                                                                 \n dense_12 (Dense)            (None, 1)                 17        \n                                                                 \n=================================================================\nTotal params: 3,368,545\nTrainable params: 3,368,545\nNon-trainable params: 0\n_________________________________________________________________\n",
          "output_type": "stream"
        }
      ]
    },
    {
      "cell_type": "markdown",
      "source": [
        "### Compiling the model"
      ],
      "metadata": {
        "id": "VsATCdf-A5-n"
      }
    },
    {
      "cell_type": "code",
      "source": [
        "model.compile(optimizer='adam', loss='mse', metrics=['mae', 'mape'])"
      ],
      "metadata": {
        "execution": {
          "iopub.status.busy": "2023-05-09T17:53:46.673754Z",
          "iopub.execute_input": "2023-05-09T17:53:46.674097Z",
          "iopub.status.idle": "2023-05-09T17:53:46.699897Z",
          "shell.execute_reply.started": "2023-05-09T17:53:46.674061Z",
          "shell.execute_reply": "2023-05-09T17:53:46.698998Z"
        },
        "trusted": true,
        "id": "uaf_XN71A5-o"
      },
      "execution_count": null,
      "outputs": []
    },
    {
      "cell_type": "markdown",
      "source": [
        "## Model Training"
      ],
      "metadata": {
        "id": "52gyatx_A5-p"
      }
    },
    {
      "cell_type": "code",
      "source": [
        "history = model.fit(X_train, y_train, epochs=100)"
      ],
      "metadata": {
        "execution": {
          "iopub.status.busy": "2023-05-09T17:53:46.703092Z",
          "iopub.execute_input": "2023-05-09T17:53:46.703909Z",
          "iopub.status.idle": "2023-05-09T17:58:10.678599Z",
          "shell.execute_reply.started": "2023-05-09T17:53:46.703877Z",
          "shell.execute_reply": "2023-05-09T17:58:10.677644Z"
        },
        "trusted": true,
        "id": "TwpFm1QCA5-q",
        "outputId": "c07aed15-6376-4961-ac26-c90d7cff15c2"
      },
      "execution_count": null,
      "outputs": [
        {
          "name": "stdout",
          "text": "Epoch 1/100\n366/366 [==============================] - 11s 6ms/step - loss: 115373219840.0000 - mae: 223078.1875 - mape: 49.2277\nEpoch 2/100\n366/366 [==============================] - 2s 5ms/step - loss: 69455994880.0000 - mae: 175933.2812 - mape: 37.2717\nEpoch 3/100\n366/366 [==============================] - 2s 6ms/step - loss: 63709241344.0000 - mae: 169027.0156 - mape: 35.5546\nEpoch 4/100\n366/366 [==============================] - 2s 6ms/step - loss: 61131841536.0000 - mae: 165759.4219 - mape: 34.9124\nEpoch 5/100\n366/366 [==============================] - 2s 5ms/step - loss: 60745990144.0000 - mae: 167357.0938 - mape: 35.0202\nEpoch 6/100\n366/366 [==============================] - 2s 5ms/step - loss: 63253823488.0000 - mae: 168348.6562 - mape: 35.1488\nEpoch 7/100\n366/366 [==============================] - 2s 6ms/step - loss: 59147300864.0000 - mae: 164895.6562 - mape: 34.7841\nEpoch 8/100\n366/366 [==============================] - 2s 6ms/step - loss: 63616413696.0000 - mae: 169971.0000 - mape: 35.2147\nEpoch 9/100\n366/366 [==============================] - 2s 6ms/step - loss: 56888909824.0000 - mae: 161452.5312 - mape: 33.8793\nEpoch 10/100\n366/366 [==============================] - 2s 6ms/step - loss: 56831733760.0000 - mae: 160004.9688 - mape: 33.5284\nEpoch 11/100\n366/366 [==============================] - 2s 6ms/step - loss: 59214237696.0000 - mae: 162406.9219 - mape: 34.1977\nEpoch 12/100\n366/366 [==============================] - 2s 6ms/step - loss: 59529773056.0000 - mae: 163702.0625 - mape: 34.1877\nEpoch 13/100\n366/366 [==============================] - 2s 7ms/step - loss: 58980405248.0000 - mae: 161938.1562 - mape: 33.6812\nEpoch 14/100\n366/366 [==============================] - 2s 6ms/step - loss: 53838446592.0000 - mae: 155908.4219 - mape: 32.6511\nEpoch 15/100\n366/366 [==============================] - 2s 6ms/step - loss: 54630879232.0000 - mae: 156266.7656 - mape: 32.6601\nEpoch 16/100\n366/366 [==============================] - 2s 6ms/step - loss: 55835422720.0000 - mae: 158658.1875 - mape: 33.1131\nEpoch 17/100\n366/366 [==============================] - 2s 6ms/step - loss: 54464913408.0000 - mae: 157176.4844 - mape: 32.8886\nEpoch 18/100\n366/366 [==============================] - 2s 6ms/step - loss: 56984547328.0000 - mae: 161383.6719 - mape: 33.6896\nEpoch 19/100\n366/366 [==============================] - 2s 6ms/step - loss: 54241468416.0000 - mae: 155621.0000 - mape: 32.5170\nEpoch 20/100\n366/366 [==============================] - 2s 6ms/step - loss: 59135946752.0000 - mae: 163379.9688 - mape: 34.0004\nEpoch 21/100\n366/366 [==============================] - 2s 6ms/step - loss: 52663656448.0000 - mae: 154168.8594 - mape: 32.1560\nEpoch 22/100\n366/366 [==============================] - 2s 6ms/step - loss: 55579299840.0000 - mae: 157360.4844 - mape: 32.8772\nEpoch 23/100\n366/366 [==============================] - 2s 6ms/step - loss: 54586580992.0000 - mae: 156370.3594 - mape: 32.5105\nEpoch 24/100\n366/366 [==============================] - 2s 6ms/step - loss: 53262577664.0000 - mae: 155050.3906 - mape: 32.3967\nEpoch 25/100\n366/366 [==============================] - 2s 6ms/step - loss: 54075871232.0000 - mae: 157037.7812 - mape: 32.5757\nEpoch 26/100\n366/366 [==============================] - 2s 6ms/step - loss: 51292758016.0000 - mae: 151864.7812 - mape: 31.6146\nEpoch 27/100\n366/366 [==============================] - 2s 6ms/step - loss: 55897804800.0000 - mae: 157001.2969 - mape: 32.6494\nEpoch 28/100\n366/366 [==============================] - 2s 7ms/step - loss: 52807000064.0000 - mae: 154402.5312 - mape: 32.1374\nEpoch 29/100\n366/366 [==============================] - 2s 5ms/step - loss: 50559614976.0000 - mae: 150681.7656 - mape: 31.3239\nEpoch 30/100\n366/366 [==============================] - 2s 6ms/step - loss: 54030680064.0000 - mae: 155396.6719 - mape: 32.1251\nEpoch 31/100\n366/366 [==============================] - 2s 6ms/step - loss: 52283559936.0000 - mae: 153384.2031 - mape: 32.0258\nEpoch 32/100\n366/366 [==============================] - 2s 6ms/step - loss: 52832710656.0000 - mae: 154543.4375 - mape: 31.9707\nEpoch 33/100\n366/366 [==============================] - 2s 6ms/step - loss: 52489314304.0000 - mae: 153925.0781 - mape: 31.7906\nEpoch 34/100\n366/366 [==============================] - 2s 6ms/step - loss: 59632648192.0000 - mae: 161197.2188 - mape: 33.5867\nEpoch 35/100\n366/366 [==============================] - 2s 5ms/step - loss: 52995551232.0000 - mae: 152778.0312 - mape: 31.5439\nEpoch 36/100\n366/366 [==============================] - 2s 6ms/step - loss: 51760218112.0000 - mae: 152372.9219 - mape: 31.5417\nEpoch 37/100\n366/366 [==============================] - 2s 6ms/step - loss: 51361501184.0000 - mae: 152362.2969 - mape: 31.6092\nEpoch 38/100\n366/366 [==============================] - 2s 6ms/step - loss: 53745012736.0000 - mae: 153568.5156 - mape: 31.8070\nEpoch 39/100\n366/366 [==============================] - 2s 6ms/step - loss: 52044754944.0000 - mae: 152404.7344 - mape: 31.6283\nEpoch 40/100\n366/366 [==============================] - 2s 6ms/step - loss: 52324454400.0000 - mae: 151717.5000 - mape: 31.5201\nEpoch 41/100\n366/366 [==============================] - 2s 6ms/step - loss: 51012214784.0000 - mae: 150878.4219 - mape: 31.4002\nEpoch 42/100\n366/366 [==============================] - 2s 6ms/step - loss: 51013070848.0000 - mae: 151318.3750 - mape: 31.3557\nEpoch 43/100\n366/366 [==============================] - 3s 7ms/step - loss: 52125188096.0000 - mae: 151897.7812 - mape: 31.5532\nEpoch 44/100\n366/366 [==============================] - 2s 6ms/step - loss: 49911029760.0000 - mae: 149106.8281 - mape: 30.9280\nEpoch 45/100\n366/366 [==============================] - 2s 6ms/step - loss: 51189428224.0000 - mae: 152566.5625 - mape: 31.6698\nEpoch 46/100\n366/366 [==============================] - 2s 6ms/step - loss: 50706468864.0000 - mae: 149443.4844 - mape: 30.8647\nEpoch 47/100\n366/366 [==============================] - 2s 6ms/step - loss: 51435798528.0000 - mae: 151232.4531 - mape: 31.4542\nEpoch 48/100\n366/366 [==============================] - 2s 6ms/step - loss: 48945655808.0000 - mae: 148143.1250 - mape: 30.8189\nEpoch 49/100\n366/366 [==============================] - 2s 6ms/step - loss: 53101506560.0000 - mae: 153325.5469 - mape: 31.6500\nEpoch 50/100\n366/366 [==============================] - 2s 6ms/step - loss: 52147609600.0000 - mae: 151818.1719 - mape: 31.4515\nEpoch 51/100\n366/366 [==============================] - 2s 6ms/step - loss: 50240663552.0000 - mae: 150436.9844 - mape: 31.1419\nEpoch 52/100\n366/366 [==============================] - 2s 6ms/step - loss: 49564909568.0000 - mae: 148995.1562 - mape: 31.0548\nEpoch 53/100\n366/366 [==============================] - 2s 6ms/step - loss: 51030122496.0000 - mae: 151829.7031 - mape: 31.3057\nEpoch 54/100\n366/366 [==============================] - 2s 6ms/step - loss: 50005434368.0000 - mae: 149201.5156 - mape: 31.0676\nEpoch 55/100\n366/366 [==============================] - 2s 6ms/step - loss: 48938049536.0000 - mae: 146918.7188 - mape: 30.4790\nEpoch 56/100\n366/366 [==============================] - 2s 6ms/step - loss: 49289723904.0000 - mae: 148141.9688 - mape: 30.6173\nEpoch 57/100\n366/366 [==============================] - 2s 6ms/step - loss: 49386569728.0000 - mae: 148052.7969 - mape: 30.6916\nEpoch 58/100\n366/366 [==============================] - 2s 7ms/step - loss: 49865011200.0000 - mae: 148512.9375 - mape: 30.8196\nEpoch 59/100\n366/366 [==============================] - 2s 6ms/step - loss: 48806412288.0000 - mae: 147634.5938 - mape: 30.6775\nEpoch 60/100\n366/366 [==============================] - 2s 6ms/step - loss: 48990040064.0000 - mae: 147891.5469 - mape: 30.9335\nEpoch 61/100\n366/366 [==============================] - 2s 6ms/step - loss: 49532538880.0000 - mae: 148435.2031 - mape: 30.7960\nEpoch 62/100\n366/366 [==============================] - 2s 6ms/step - loss: 49416626176.0000 - mae: 147605.6875 - mape: 30.6762\nEpoch 63/100\n366/366 [==============================] - 2s 6ms/step - loss: 48503390208.0000 - mae: 147891.4375 - mape: 30.7656\nEpoch 64/100\n366/366 [==============================] - 2s 6ms/step - loss: 48167800832.0000 - mae: 145974.1562 - mape: 30.3071\nEpoch 65/100\n366/366 [==============================] - 2s 6ms/step - loss: 48472039424.0000 - mae: 146392.1562 - mape: 30.4809\nEpoch 66/100\n366/366 [==============================] - 2s 6ms/step - loss: 47465766912.0000 - mae: 145686.1250 - mape: 30.3407\nEpoch 67/100\n366/366 [==============================] - 2s 6ms/step - loss: 48080560128.0000 - mae: 145239.3281 - mape: 30.2406\nEpoch 68/100\n366/366 [==============================] - 2s 6ms/step - loss: 47816654848.0000 - mae: 145906.5781 - mape: 30.3515\nEpoch 69/100\n366/366 [==============================] - 2s 6ms/step - loss: 48326881280.0000 - mae: 147244.9219 - mape: 30.5693\nEpoch 70/100\n366/366 [==============================] - 2s 6ms/step - loss: 48167899136.0000 - mae: 145695.2812 - mape: 30.3434\nEpoch 71/100\n366/366 [==============================] - 2s 6ms/step - loss: 46709411840.0000 - mae: 144538.7656 - mape: 30.0584\nEpoch 72/100\n366/366 [==============================] - 2s 5ms/step - loss: 47881138176.0000 - mae: 145494.6250 - mape: 30.2558\nEpoch 73/100\n366/366 [==============================] - 2s 6ms/step - loss: 47831670784.0000 - mae: 146193.8750 - mape: 30.4547\nEpoch 74/100\n366/366 [==============================] - 2s 6ms/step - loss: 48283926528.0000 - mae: 146402.7344 - mape: 30.5587\nEpoch 75/100\n366/366 [==============================] - 2s 6ms/step - loss: 49335169024.0000 - mae: 147990.4531 - mape: 30.8068\nEpoch 76/100\n366/366 [==============================] - 2s 6ms/step - loss: 46650712064.0000 - mae: 144099.5156 - mape: 30.0486\nEpoch 77/100\n366/366 [==============================] - 2s 6ms/step - loss: 48079314944.0000 - mae: 145554.9688 - mape: 30.2738\nEpoch 78/100\n366/366 [==============================] - 2s 5ms/step - loss: 46424326144.0000 - mae: 144024.5938 - mape: 30.0820\nEpoch 79/100\n366/366 [==============================] - 2s 6ms/step - loss: 45502382080.0000 - mae: 142833.1094 - mape: 29.9501\nEpoch 80/100\n366/366 [==============================] - 2s 6ms/step - loss: 46820442112.0000 - mae: 144880.7188 - mape: 30.0728\nEpoch 81/100\n366/366 [==============================] - 2s 6ms/step - loss: 49424752640.0000 - mae: 148025.7500 - mape: 30.7913\nEpoch 82/100\n366/366 [==============================] - 2s 6ms/step - loss: 48581087232.0000 - mae: 147064.2969 - mape: 30.5191\nEpoch 83/100\n366/366 [==============================] - 2s 6ms/step - loss: 45965008896.0000 - mae: 143562.7031 - mape: 30.1378\nEpoch 84/100\n366/366 [==============================] - 2s 6ms/step - loss: 47132475392.0000 - mae: 144201.1406 - mape: 30.0132\nEpoch 85/100\n366/366 [==============================] - 2s 6ms/step - loss: 46012600320.0000 - mae: 143252.1094 - mape: 29.8453\nEpoch 86/100\n366/366 [==============================] - 2s 6ms/step - loss: 47465938944.0000 - mae: 145318.7031 - mape: 30.3195\nEpoch 87/100\n366/366 [==============================] - 2s 6ms/step - loss: 46110588928.0000 - mae: 143106.4375 - mape: 29.8871\nEpoch 88/100\n366/366 [==============================] - 2s 7ms/step - loss: 46045933568.0000 - mae: 143356.4062 - mape: 29.9401\nEpoch 89/100\n366/366 [==============================] - 2s 6ms/step - loss: 47192424448.0000 - mae: 144077.8906 - mape: 30.0460\nEpoch 90/100\n366/366 [==============================] - 2s 6ms/step - loss: 46030782464.0000 - mae: 143928.2812 - mape: 30.1497\nEpoch 91/100\n366/366 [==============================] - 2s 6ms/step - loss: 47286464512.0000 - mae: 144318.2188 - mape: 30.0864\nEpoch 92/100\n366/366 [==============================] - 2s 6ms/step - loss: 46418128896.0000 - mae: 144305.5469 - mape: 30.2092\nEpoch 93/100\n366/366 [==============================] - 2s 6ms/step - loss: 45890568192.0000 - mae: 143217.1562 - mape: 29.9014\nEpoch 94/100\n366/366 [==============================] - 2s 6ms/step - loss: 44947415040.0000 - mae: 141036.0000 - mape: 29.5444\nEpoch 95/100\n366/366 [==============================] - 2s 6ms/step - loss: 44814655488.0000 - mae: 142566.5625 - mape: 29.8249\nEpoch 96/100\n366/366 [==============================] - 2s 5ms/step - loss: 45107769344.0000 - mae: 141834.5000 - mape: 29.7779\nEpoch 97/100\n366/366 [==============================] - 2s 6ms/step - loss: 44985761792.0000 - mae: 142067.0000 - mape: 29.6291\nEpoch 98/100\n366/366 [==============================] - 2s 6ms/step - loss: 44453998592.0000 - mae: 141057.8750 - mape: 29.5080\nEpoch 99/100\n366/366 [==============================] - 2s 6ms/step - loss: 45318406144.0000 - mae: 142222.6250 - mape: 29.7655\nEpoch 100/100\n366/366 [==============================] - 2s 6ms/step - loss: 45620596736.0000 - mae: 143098.0312 - mape: 29.9300\n",
          "output_type": "stream"
        }
      ]
    },
    {
      "cell_type": "markdown",
      "source": [
        "### Prediting the unseen dataset"
      ],
      "metadata": {
        "id": "ewpaPOb9A5-s"
      }
    },
    {
      "cell_type": "code",
      "source": [
        "y_pred = model.predict(X_test)"
      ],
      "metadata": {
        "execution": {
          "iopub.status.busy": "2023-05-09T17:58:10.680162Z",
          "iopub.execute_input": "2023-05-09T17:58:10.680534Z",
          "iopub.status.idle": "2023-05-09T17:58:11.198595Z",
          "shell.execute_reply.started": "2023-05-09T17:58:10.680498Z",
          "shell.execute_reply": "2023-05-09T17:58:11.197739Z"
        },
        "trusted": true,
        "id": "LgGdQyXCA5-t",
        "outputId": "b3a93af6-5881-465c-ea85-c5b3d910a104"
      },
      "execution_count": null,
      "outputs": [
        {
          "name": "stdout",
          "text": "92/92 [==============================] - 0s 2ms/step\n",
          "output_type": "stream"
        }
      ]
    },
    {
      "cell_type": "code",
      "source": [
        "y_pred"
      ],
      "metadata": {
        "execution": {
          "iopub.status.busy": "2023-05-09T17:58:11.200027Z",
          "iopub.execute_input": "2023-05-09T17:58:11.200341Z",
          "iopub.status.idle": "2023-05-09T17:58:11.207607Z",
          "shell.execute_reply.started": "2023-05-09T17:58:11.200310Z",
          "shell.execute_reply": "2023-05-09T17:58:11.206368Z"
        },
        "trusted": true,
        "id": "ubntKHbZA5-u",
        "outputId": "ba346f1b-7fda-4046-8955-e41d5886409d"
      },
      "execution_count": null,
      "outputs": [
        {
          "execution_count": 12,
          "output_type": "execute_result",
          "data": {
            "text/plain": "array([[360362.7 ],\n       [394695.16],\n       [402347.7 ],\n       ...,\n       [415337.1 ],\n       [324866.47],\n       [523623.03]], dtype=float32)"
          },
          "metadata": {}
        }
      ]
    },
    {
      "cell_type": "code",
      "source": [
        "y_test"
      ],
      "metadata": {
        "execution": {
          "iopub.status.busy": "2023-05-09T17:58:11.209120Z",
          "iopub.execute_input": "2023-05-09T17:58:11.209956Z",
          "iopub.status.idle": "2023-05-09T17:58:11.223021Z",
          "shell.execute_reply.started": "2023-05-09T17:58:11.209920Z",
          "shell.execute_reply": "2023-05-09T17:58:11.221252Z"
        },
        "trusted": true,
        "id": "pKqVxNBdA5-v",
        "outputId": "3ef64522-f409-42a8-ae6f-cc561da48674"
      },
      "execution_count": null,
      "outputs": [
        {
          "execution_count": 13,
          "output_type": "execute_result",
          "data": {
            "text/plain": "12149    640000\n13581    650000\n11595    325000\n2769     373000\n7393     355000\n          ...  \n7362     497000\n11132    400000\n142      366750\n1405     276000\n6184     569000\nName: Price, Length: 2924, dtype: int64"
          },
          "metadata": {}
        }
      ]
    },
    {
      "cell_type": "markdown",
      "source": [
        "## Visual representation of the acutual value vs the predicted value"
      ],
      "metadata": {
        "id": "nE_GxdMdA5-x"
      }
    },
    {
      "cell_type": "code",
      "source": [
        "plt.scatter(y_test, y_pred, c=y_pred)\n",
        "plt.show()"
      ],
      "metadata": {
        "execution": {
          "iopub.status.busy": "2023-05-09T17:58:11.225105Z",
          "iopub.execute_input": "2023-05-09T17:58:11.225648Z",
          "iopub.status.idle": "2023-05-09T17:58:11.527245Z",
          "shell.execute_reply.started": "2023-05-09T17:58:11.225611Z",
          "shell.execute_reply": "2023-05-09T17:58:11.526287Z"
        },
        "trusted": true,
        "id": "oerAaSAMA5-y",
        "outputId": "63dc6351-c709-45b0-bf2d-a4b44a6b08e4"
      },
      "execution_count": null,
      "outputs": [
        {
          "output_type": "display_data",
          "data": {
            "text/plain": "<Figure size 640x480 with 1 Axes>",
            "image/png": "[encoded data removed]"
          },
          "metadata": {}
        }
      ]
    },
    {
      "cell_type": "code",
      "source": [
        "pd.DataFrame({'Actual Value':y_test.values.flatten(), 'Predicted Value':y_pred.flatten()})"
      ],
      "metadata": {
        "execution": {
          "iopub.status.busy": "2023-05-09T17:58:11.528557Z",
          "iopub.execute_input": "2023-05-09T17:58:11.530332Z",
          "iopub.status.idle": "2023-05-09T17:58:11.543195Z",
          "shell.execute_reply.started": "2023-05-09T17:58:11.530297Z",
          "shell.execute_reply": "2023-05-09T17:58:11.541911Z"
        },
        "trusted": true,
        "id": "q652c5MrA5-0",
        "outputId": "ecf8e061-29ac-474b-94b2-8432800f0f2d"
      },
      "execution_count": null,
      "outputs": [
        {
          "execution_count": 15,
          "output_type": "execute_result",
          "data": {
            "text/plain": "      Actual Value  Predicted Value\n0           640000     360362.68750\n1           650000     394695.15625\n2           325000     402347.68750\n3           373000     499798.25000\n4           355000     514653.06250\n...            ...              ...\n2919        497000     497558.09375\n2920        400000     374115.21875\n2921        366750     415337.09375\n2922        276000     324866.46875\n2923        569000     523623.03125\n\n[2924 rows x 2 columns]",
            "text/html": "<div>\n<style scoped>\n    .dataframe tbody tr th:only-of-type {\n        vertical-align: middle;\n    }\n\n    .dataframe tbody tr th {\n        vertical-align: top;\n    }\n\n    .dataframe thead th {\n        text-align: right;\n    }\n</style>\n<table border=\"1\" class=\"dataframe\">\n  <thead>\n    <tr style=\"text-align: right;\">\n      <th></th>\n      <th>Actual Value</th>\n      <th>Predicted Value</th>\n    </tr>\n  </thead>\n  <tbody>\n    <tr>\n      <th>0</th>\n      <td>640000</td>\n      <td>360362.68750</td>\n    </tr>\n    <tr>\n      <th>1</th>\n      <td>650000</td>\n      <td>394695.15625</td>\n    </tr>\n    <tr>\n      <th>2</th>\n      <td>325000</td>\n      <td>402347.68750</td>\n    </tr>\n    <tr>\n      <th>3</th>\n      <td>373000</td>\n      <td>499798.25000</td>\n    </tr>\n    <tr>\n      <th>4</th>\n      <td>355000</td>\n      <td>514653.06250</td>\n    </tr>\n    <tr>\n      <th>...</th>\n      <td>...</td>\n      <td>...</td>\n    </tr>\n    <tr>\n      <th>2919</th>\n      <td>497000</td>\n      <td>497558.09375</td>\n    </tr>\n    <tr>\n      <th>2920</th>\n      <td>400000</td>\n      <td>374115.21875</td>\n    </tr>\n    <tr>\n      <th>2921</th>\n      <td>366750</td>\n      <td>415337.09375</td>\n    </tr>\n    <tr>\n      <th>2922</th>\n      <td>276000</td>\n      <td>324866.46875</td>\n    </tr>\n    <tr>\n      <th>2923</th>\n      <td>569000</td>\n      <td>523623.03125</td>\n    </tr>\n  </tbody>\n</table>\n<p>2924 rows × 2 columns</p>\n</div>"
          },
          "metadata": {}
        }
      ]
    },
    {
      "cell_type": "markdown",
      "source": [
        "### The above cell maps the actual value and the predicted values"
      ],
      "metadata": {
        "id": "GDSUCbAaA5-2"
      }
    },
    {
      "cell_type": "code",
      "source": [
        "r2_score(y_pred=y_pred, y_true=y_test) * 100"
      ],
      "metadata": {
        "execution": {
          "iopub.status.busy": "2023-05-09T17:58:11.544800Z",
          "iopub.execute_input": "2023-05-09T17:58:11.545213Z",
          "iopub.status.idle": "2023-05-09T17:58:11.557970Z",
          "shell.execute_reply.started": "2023-05-09T17:58:11.545164Z",
          "shell.execute_reply": "2023-05-09T17:58:11.557042Z"
        },
        "trusted": true,
        "id": "OP2T-8E1A5-3",
        "outputId": "0ad36bea-6783-4d35-c30a-4331502e40a0"
      },
      "execution_count": null,
      "outputs": [
        {
          "execution_count": 16,
          "output_type": "execute_result",
          "data": {
            "text/plain": "66.53464784299932"
          },
          "metadata": {}
        }
      ]
    },
    {
      "cell_type": "markdown",
      "source": [
        "## Thus the model is trained with ANN and got an accuracy of 66.5%"
      ],
      "metadata": {
        "id": "PH9cIiY9A5-4"
      }
    },
    {
      "cell_type": "code",
      "source": [],
      "metadata": {
        "id": "RPT0LRRoA5-6"
      },
      "execution_count": null,
      "outputs": []
    }
  ]
}